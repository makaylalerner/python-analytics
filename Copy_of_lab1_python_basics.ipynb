{
  "nbformat": 4,
  "nbformat_minor": 0,
  "metadata": {
    "kernelspec": {
      "display_name": "Python 3",
      "language": "python",
      "name": "python3"
    },
    "language_info": {
      "codemirror_mode": {
        "name": "ipython",
        "version": 3
      },
      "file_extension": ".py",
      "mimetype": "text/x-python",
      "name": "python",
      "nbconvert_exporter": "python",
      "pygments_lexer": "ipython3",
      "version": "3.5.1"
    },
    "colab": {
      "provenance": [],
      "collapsed_sections": [
        "UdwkSxzGZWXe",
        "uYC3WWtHZWXf",
        "FMRZegYAkqXS",
        "z-X6Km3SZWXk",
        "y3aIeSNkngOd",
        "Z9OgLxKdZWXp",
        "6t2_OOMOj8T_",
        "S-BnuGu0vX4C"
      ],
      "include_colab_link": true
    }
  },
  "cells": [
    {
      "cell_type": "markdown",
      "metadata": {
        "id": "view-in-github",
        "colab_type": "text"
      },
      "source": [
        "<a href=\"https://colab.research.google.com/github/makaylalerner/python-analytics/blob/main/Copy_of_lab1_python_basics.ipynb\" target=\"_parent\"><img src=\"https://colab.research.google.com/assets/colab-badge.svg\" alt=\"Open In Colab\"/></a>"
      ]
    },
    {
      "cell_type": "markdown",
      "metadata": {
        "deletable": true,
        "editable": true,
        "id": "c9NHjipPZWXQ"
      },
      "source": [
        "# INSC 486: Lab 1 - Python Basics\n",
        "\n",
        "Make a copy to your google drive by click \"Copy to Drive\".\n",
        "\n",
        "## Lab goals\n",
        "\n",
        "You're going to learn four things in this lab:\n",
        "\n",
        "1.   How to use Jupyter (Colaboratory) notebooks,\n",
        "2.   How to set up your Google Colaboratory,\n",
        "3.   How to access and submit labs and assignments,\n",
        "4.   And get familiar with Python basics.\n",
        "\n",
        "## Total point value of this lab\n",
        "\n",
        "This lab is worth 10 points that is 1% of your final grade.\n",
        "\n",
        "## Submission\n",
        "- Colab link\n",
        "  1. Click \"Share\".\n",
        "  2. \"Get Link\" -> \"Change to everyone with the link\" -> \"Copy Link\"\n",
        "  3. Sumbit the link on Canvas.\n"
      ]
    },
    {
      "cell_type": "markdown",
      "metadata": {
        "deletable": true,
        "editable": true,
        "id": "UdwkSxzGZWXe"
      },
      "source": [
        "## Part 1. Language Semantics"
      ]
    },
    {
      "cell_type": "markdown",
      "metadata": {
        "deletable": true,
        "editable": true,
        "id": "1KmqrWQAZWXe"
      },
      "source": [
        "### Indentation, not braces"
      ]
    },
    {
      "cell_type": "markdown",
      "metadata": {
        "deletable": true,
        "editable": true,
        "id": "lb3RVTPgZWXe"
      },
      "source": [
        "```python\n",
        "for x in array:\n",
        "    if x < pivot:\n",
        "        less.append(x)\n",
        "    else:\n",
        "        greater.append(x)\n",
        "```"
      ]
    },
    {
      "cell_type": "markdown",
      "metadata": {
        "deletable": true,
        "editable": true,
        "id": "7CgLNR67ZWXe"
      },
      "source": [
        "```python\n",
        "a = 5; b = 6; c = 7\n",
        "```"
      ]
    },
    {
      "cell_type": "markdown",
      "metadata": {
        "deletable": true,
        "editable": true,
        "id": "z2gjh7IBZWXe"
      },
      "source": [
        "### Comments"
      ]
    },
    {
      "cell_type": "markdown",
      "metadata": {
        "deletable": true,
        "editable": true,
        "id": "dZaWLvD7ZWXe"
      },
      "source": [
        "```python\n",
        "results = []\n",
        "for line in file_handle:\n",
        "    # keep the empty lines for now\n",
        "    # if len(line) == 0:\n",
        "    #   continue\n",
        "    results.append(line.replace('foo', 'bar'))\n",
        "```"
      ]
    },
    {
      "cell_type": "markdown",
      "metadata": {
        "deletable": true,
        "editable": true,
        "id": "oWPYuEX9ZWXf"
      },
      "source": [
        "```python\n",
        "print(\"Reached this line\")  # Simple status report\n",
        "```"
      ]
    },
    {
      "cell_type": "markdown",
      "metadata": {
        "deletable": true,
        "editable": true,
        "id": "glvF79AwZWXf"
      },
      "source": [
        "### Function and object method calls"
      ]
    },
    {
      "cell_type": "code",
      "metadata": {
        "id": "2zm410Uf6MSB",
        "colab": {
          "base_uri": "https://localhost:8080/"
        },
        "outputId": "e6e19edb-19b8-4285-c796-dc1f5d549f0b"
      },
      "source": [
        "def sum(x, y, z):\n",
        "  return x+y+z\n",
        "\n",
        "result = sum(1,2,3)\n",
        "result"
      ],
      "execution_count": null,
      "outputs": [
        {
          "output_type": "execute_result",
          "data": {
            "text/plain": [
              "6"
            ]
          },
          "metadata": {},
          "execution_count": 1
        }
      ]
    },
    {
      "cell_type": "markdown",
      "metadata": {
        "deletable": true,
        "editable": true,
        "id": "uYC3WWtHZWXf"
      },
      "source": [
        "### Variables and argument passing"
      ]
    },
    {
      "cell_type": "code",
      "metadata": {
        "deletable": true,
        "editable": true,
        "id": "uanXUKMZZWXg"
      },
      "source": [
        "a = [1, 2, 3]"
      ],
      "execution_count": null,
      "outputs": []
    },
    {
      "cell_type": "code",
      "metadata": {
        "deletable": true,
        "editable": true,
        "id": "zekEcTAMZWXg"
      },
      "source": [
        "b = a"
      ],
      "execution_count": null,
      "outputs": []
    },
    {
      "cell_type": "code",
      "metadata": {
        "deletable": true,
        "editable": true,
        "id": "_1db7hxHZWXg",
        "colab": {
          "base_uri": "https://localhost:8080/"
        },
        "outputId": "66213d24-41c0-4978-9c34-b6b5b882344c"
      },
      "source": [
        "a.append(4)\n",
        "b"
      ],
      "execution_count": null,
      "outputs": [
        {
          "output_type": "execute_result",
          "data": {
            "text/plain": [
              "[1, 2, 3, 4]"
            ]
          },
          "metadata": {},
          "execution_count": 4
        }
      ]
    },
    {
      "cell_type": "markdown",
      "metadata": {
        "deletable": true,
        "editable": true,
        "id": "4ynKvmApZWXg"
      },
      "source": [
        "### Dynamic references, strong types"
      ]
    },
    {
      "cell_type": "code",
      "metadata": {
        "deletable": true,
        "editable": true,
        "id": "UasRMfdjZWXg",
        "colab": {
          "base_uri": "https://localhost:8080/"
        },
        "outputId": "1c4f5cb8-c7a9-47a9-c7c7-b209d50cd241"
      },
      "source": [
        "a = 5\n",
        "type(a)\n",
        "a = 'foo'\n",
        "type(a)"
      ],
      "execution_count": null,
      "outputs": [
        {
          "output_type": "execute_result",
          "data": {
            "text/plain": [
              "str"
            ]
          },
          "metadata": {},
          "execution_count": 5
        }
      ]
    },
    {
      "cell_type": "code",
      "metadata": {
        "deletable": true,
        "editable": true,
        "id": "qu9yWF-EZWXg",
        "colab": {
          "base_uri": "https://localhost:8080/",
          "height": 165
        },
        "outputId": "6bb6910d-26a5-4dbc-c376-f21a5abb6b0e"
      },
      "source": [
        "'5' + 5 "
      ],
      "execution_count": null,
      "outputs": [
        {
          "output_type": "error",
          "ename": "TypeError",
          "evalue": "ignored",
          "traceback": [
            "\u001b[0;31m---------------------------------------------------------------------------\u001b[0m",
            "\u001b[0;31mTypeError\u001b[0m                                 Traceback (most recent call last)",
            "\u001b[0;32m<ipython-input-6-8ac84827c744>\u001b[0m in \u001b[0;36m<module>\u001b[0;34m\u001b[0m\n\u001b[0;32m----> 1\u001b[0;31m \u001b[0;34m'5'\u001b[0m \u001b[0;34m+\u001b[0m \u001b[0;36m5\u001b[0m\u001b[0;34m\u001b[0m\u001b[0;34m\u001b[0m\u001b[0m\n\u001b[0m",
            "\u001b[0;31mTypeError\u001b[0m: can only concatenate str (not \"int\") to str"
          ]
        }
      ]
    },
    {
      "cell_type": "code",
      "metadata": {
        "deletable": true,
        "editable": true,
        "id": "lQwBprlyZWXh"
      },
      "source": [
        "a = 4.5\n",
        "b = 2\n",
        "# String formatting, to be visited later\n",
        "print('a is {0}, b is {1}'.format(type(a), type(b)))\n",
        "a / b"
      ],
      "execution_count": null,
      "outputs": []
    },
    {
      "cell_type": "markdown",
      "metadata": {
        "deletable": true,
        "editable": true,
        "id": "opLbZdhnZWXh"
      },
      "source": [
        "### Attributes and methods"
      ]
    },
    {
      "cell_type": "markdown",
      "metadata": {
        "id": "SD9x9XZQEEwh"
      },
      "source": [
        "Objects in Python typically have both attributes (other Python objects stored “inside” the object) and methods (functions associated with an object that can have access to the object’s internal data)."
      ]
    },
    {
      "cell_type": "markdown",
      "metadata": {
        "deletable": true,
        "editable": true,
        "id": "rINWieavZWXh"
      },
      "source": [
        "```python\n",
        "In [1]: a = 'foo'\n",
        "\n",
        "In [2]: a.<Press Tab>\n",
        "a.capitalize  a.format      a.isupper     a.rindex      a.strip\n",
        "a.center      a.index       a.join        a.rjust       a.swapcase\n",
        "a.count       a.isalnum     a.ljust       a.rpartition  a.title\n",
        "a.decode      a.isalpha     a.lower       a.rsplit      a.translate\n",
        "a.encode      a.isdigit     a.lstrip      a.rstrip      a.upper\n",
        "a.endswith    a.islower     a.partition   a.split       a.zfill\n",
        "a.expandtabs  a.isspace     a.replace     a.splitlines\n",
        "a.find        a.istitle     a.rfind       a.startswith\n",
        "```"
      ]
    },
    {
      "cell_type": "code",
      "metadata": {
        "deletable": true,
        "editable": true,
        "id": "38DpmQGcZWXh"
      },
      "source": [
        "a = 'foo'"
      ],
      "execution_count": null,
      "outputs": []
    },
    {
      "cell_type": "code",
      "metadata": {
        "deletable": true,
        "editable": true,
        "id": "nGcv_QM1ZWXh"
      },
      "source": [
        "getattr(a, 'split')"
      ],
      "execution_count": null,
      "outputs": []
    },
    {
      "cell_type": "markdown",
      "metadata": {
        "deletable": true,
        "editable": true,
        "id": "H2C19mZuZWXi"
      },
      "source": [
        "### Imports"
      ]
    },
    {
      "cell_type": "markdown",
      "metadata": {
        "deletable": true,
        "editable": true,
        "id": "dWr5S0EfZWXi"
      },
      "source": [
        "```python\n",
        "# some_module.py\n",
        "PI = 3.14159\n",
        "\n",
        "def f(x):\n",
        "    return x + 2\n",
        "\n",
        "def g(a, b):\n",
        "    return a + b\n",
        "```"
      ]
    },
    {
      "cell_type": "markdown",
      "metadata": {
        "deletable": true,
        "editable": true,
        "id": "YnCQgtT5ZWXi"
      },
      "source": [
        "```python\n",
        "import some_module\n",
        "result = some_module.f(5)\n",
        "pi = some_module.PI\n",
        "```"
      ]
    },
    {
      "cell_type": "markdown",
      "metadata": {
        "deletable": true,
        "editable": true,
        "id": "SfKa7e3vZWXi"
      },
      "source": [
        "```python\n",
        "from some_module import f, g, PI\n",
        "result = g(5, PI)\n",
        "```"
      ]
    },
    {
      "cell_type": "markdown",
      "metadata": {
        "deletable": true,
        "editable": true,
        "id": "dQPJTiQTZWXj"
      },
      "source": [
        "```python\n",
        "import some_module as sm\n",
        "from some_module import PI as pi, g as gf\n",
        "\n",
        "r1 = sm.f(pi)\n",
        "r2 = gf(6, pi)\n",
        "```"
      ]
    },
    {
      "cell_type": "markdown",
      "metadata": {
        "deletable": true,
        "editable": true,
        "id": "srxJMTTvZWXj"
      },
      "source": [
        "### Binary operators and comparisons"
      ]
    },
    {
      "cell_type": "code",
      "metadata": {
        "deletable": true,
        "editable": true,
        "id": "Fh9wwHFfZWXj"
      },
      "source": [
        "5 - 7\n",
        "12 + 21.5\n",
        "5 <= 2"
      ],
      "execution_count": null,
      "outputs": []
    },
    {
      "cell_type": "code",
      "metadata": {
        "deletable": true,
        "editable": true,
        "id": "RcSBCaPtZWXj"
      },
      "source": [
        "a = [1, 2, 3]\n",
        "b = a\n",
        "c = list(a)\n",
        "a is b\n",
        "a is not c"
      ],
      "execution_count": null,
      "outputs": []
    },
    {
      "cell_type": "code",
      "metadata": {
        "deletable": true,
        "editable": true,
        "id": "vqg_XMuYZWXj"
      },
      "source": [
        "a == c"
      ],
      "execution_count": null,
      "outputs": []
    },
    {
      "cell_type": "code",
      "metadata": {
        "deletable": true,
        "editable": true,
        "id": "zoyGdW34ZWXj"
      },
      "source": [
        "a = None\n",
        "a is None"
      ],
      "execution_count": null,
      "outputs": []
    },
    {
      "cell_type": "markdown",
      "metadata": {
        "id": "FMRZegYAkqXS"
      },
      "source": [
        "## Exercise 1"
      ]
    },
    {
      "cell_type": "markdown",
      "metadata": {
        "id": "G-Aw3bJikvna"
      },
      "source": [
        "1. Correct the following code and run the code cell."
      ]
    },
    {
      "cell_type": "code",
      "metadata": {
        "id": "7DQcnt-tlLHh",
        "colab": {
          "base_uri": "https://localhost:8080/"
        },
        "outputId": "203954bc-333f-43f6-c786-a121da357e50"
      },
      "source": [
        "if 5 > 2:\n",
        "  print(\"Five is greater than two!\")"
      ],
      "execution_count": null,
      "outputs": [
        {
          "output_type": "stream",
          "name": "stdout",
          "text": [
            "Five is greater than two!\n"
          ]
        }
      ]
    },
    {
      "cell_type": "markdown",
      "metadata": {
        "id": "Lx7ZWQXmlWi2"
      },
      "source": [
        "2. Correct the following code and run the code cell."
      ]
    },
    {
      "cell_type": "code",
      "metadata": {
        "id": "nS8T3VgPlgnO",
        "colab": {
          "base_uri": "https://localhost:8080/"
        },
        "outputId": "55e35345-1274-4b6a-ddec-79a4dee3f385"
      },
      "source": [
        "if 5 > 2:\n",
        "  print(\"Five is greater than two!\")\n",
        "  print(\"Five is greater than two!\")"
      ],
      "execution_count": null,
      "outputs": [
        {
          "output_type": "stream",
          "name": "stdout",
          "text": [
            "Five is greater than two!\n",
            "Five is greater than two!\n"
          ]
        }
      ]
    },
    {
      "cell_type": "markdown",
      "metadata": {
        "id": "5m7xllL0oSU6"
      },
      "source": [
        "3. Read the code and think about the output"
      ]
    },
    {
      "cell_type": "code",
      "metadata": {
        "id": "xQ3izUxXocQW",
        "colab": {
          "base_uri": "https://localhost:8080/"
        },
        "outputId": "ef2651ba-f927-422f-aa82-54d3abbc5a5c"
      },
      "source": [
        "x = \"awesome\"\n",
        "\n",
        "def myfunc():\n",
        "  x = \"fantastic\"\n",
        "  print(\"Python is \" + x)\n",
        "\n",
        "myfunc()\n",
        "\n",
        "print(\"Python is \" + x)"
      ],
      "execution_count": null,
      "outputs": [
        {
          "output_type": "stream",
          "name": "stdout",
          "text": [
            "Python is fantastic\n",
            "Python is awesome\n"
          ]
        }
      ]
    },
    {
      "cell_type": "markdown",
      "metadata": {
        "deletable": true,
        "editable": true,
        "id": "z-X6Km3SZWXk"
      },
      "source": [
        "## Part 2. Scalar Types"
      ]
    },
    {
      "cell_type": "markdown",
      "metadata": {
        "id": "wXpXrg1DLjTd"
      },
      "source": [
        "Python along with its standard library has a small set of built-in types for handling numerical data, strings, boolean (True or False) values, and dates and time. These “single value” types are sometimes called *scalar types* and we refer to them as scalars.\n",
        "\n",
        "![image.png](data:image/png;base64,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)"
      ]
    },
    {
      "cell_type": "markdown",
      "metadata": {
        "deletable": true,
        "editable": true,
        "id": "lY-R5c6pZWXk"
      },
      "source": [
        "### Numeric types"
      ]
    },
    {
      "cell_type": "markdown",
      "metadata": {
        "id": "ztBttPFIM7E3"
      },
      "source": [
        "The primary Python types for numbers are **int** and **float**."
      ]
    },
    {
      "cell_type": "markdown",
      "metadata": {
        "id": "G-VGrbC7M1Ck"
      },
      "source": [
        "An int can store arbitrarily large numbers:"
      ]
    },
    {
      "cell_type": "code",
      "metadata": {
        "deletable": true,
        "editable": true,
        "id": "HuZCYG0eZWXk",
        "colab": {
          "base_uri": "https://localhost:8080/"
        },
        "outputId": "4ae0c6c9-7465-426f-e5cc-779954c0c79e"
      },
      "source": [
        "ival = 17239871\n",
        "ival ** 6"
      ],
      "execution_count": null,
      "outputs": [
        {
          "output_type": "execute_result",
          "data": {
            "text/plain": [
              "26254519291092456596965462913230729701102721"
            ]
          },
          "metadata": {},
          "execution_count": 24
        }
      ]
    },
    {
      "cell_type": "markdown",
      "metadata": {
        "id": "46GxBj8GNUwc"
      },
      "source": [
        "Floating-point numbers are represented with the Python float type.\n",
        "\n",
        "They can also be expressed with scientific notation."
      ]
    },
    {
      "cell_type": "code",
      "metadata": {
        "deletable": true,
        "editable": true,
        "id": "YhpsEcRdZWXk"
      },
      "source": [
        "fval = 7.243\n",
        "fval2 = 6.78e-5"
      ],
      "execution_count": null,
      "outputs": []
    },
    {
      "cell_type": "markdown",
      "metadata": {
        "deletable": true,
        "editable": true,
        "id": "RVtBQJ6lZWXl"
      },
      "source": [
        "### Strings"
      ]
    },
    {
      "cell_type": "code",
      "metadata": {
        "id": "YUzYSwDNNvXW"
      },
      "source": [
        "a = 'one way of writing a string'\n",
        "b = \"another way\""
      ],
      "execution_count": null,
      "outputs": []
    },
    {
      "cell_type": "code",
      "metadata": {
        "deletable": true,
        "editable": true,
        "id": "zi6XeVf5ZWXl"
      },
      "source": [
        "c = \"\"\"\n",
        "This is a longer string that\n",
        "spans multiple lines\n",
        "\"\"\""
      ],
      "execution_count": null,
      "outputs": []
    },
    {
      "cell_type": "code",
      "metadata": {
        "deletable": true,
        "editable": true,
        "id": "Nryyg-4bZWXl",
        "colab": {
          "base_uri": "https://localhost:8080/"
        },
        "outputId": "f541f1db-1778-4af7-cb89-ef2e2141eea1"
      },
      "source": [
        "c.count('\\n')"
      ],
      "execution_count": null,
      "outputs": [
        {
          "output_type": "execute_result",
          "data": {
            "text/plain": [
              "3"
            ]
          },
          "metadata": {},
          "execution_count": 28
        }
      ]
    },
    {
      "cell_type": "code",
      "metadata": {
        "deletable": true,
        "editable": true,
        "id": "FYPchHacZWXl",
        "colab": {
          "base_uri": "https://localhost:8080/",
          "height": 36
        },
        "outputId": "1aad7c39-3699-43ef-9589-e4b90273b4f9"
      },
      "source": [
        "a = 'this is a string'\n",
        "b = a.replace('string', 'longer string')\n",
        "b"
      ],
      "execution_count": null,
      "outputs": [
        {
          "output_type": "execute_result",
          "data": {
            "text/plain": [
              "'this is a longer string'"
            ],
            "application/vnd.google.colaboratory.intrinsic+json": {
              "type": "string"
            }
          },
          "metadata": {},
          "execution_count": 29
        }
      ]
    },
    {
      "cell_type": "code",
      "metadata": {
        "deletable": true,
        "editable": true,
        "id": "Fr0kzVhKZWXl",
        "colab": {
          "base_uri": "https://localhost:8080/",
          "height": 36
        },
        "outputId": "538c4dab-5253-4ec0-a15e-a06cd1938a62"
      },
      "source": [
        "a"
      ],
      "execution_count": null,
      "outputs": [
        {
          "output_type": "execute_result",
          "data": {
            "text/plain": [
              "'this is a string'"
            ],
            "application/vnd.google.colaboratory.intrinsic+json": {
              "type": "string"
            }
          },
          "metadata": {},
          "execution_count": 30
        }
      ]
    },
    {
      "cell_type": "code",
      "metadata": {
        "deletable": true,
        "editable": true,
        "id": "4tKX1w_UZWXl",
        "colab": {
          "base_uri": "https://localhost:8080/"
        },
        "outputId": "74655386-9b94-44f4-d05e-646086331ee6"
      },
      "source": [
        "a = 5.6\n",
        "s = str(a)\n",
        "print(s)"
      ],
      "execution_count": null,
      "outputs": [
        {
          "output_type": "stream",
          "name": "stdout",
          "text": [
            "5.6\n"
          ]
        }
      ]
    },
    {
      "cell_type": "code",
      "metadata": {
        "deletable": true,
        "editable": true,
        "id": "2q7NA7gaZWXm",
        "colab": {
          "base_uri": "https://localhost:8080/",
          "height": 36
        },
        "outputId": "2ee236a0-0cf0-47e0-f546-8fef1ace46d7"
      },
      "source": [
        "a = 'this is the first half '\n",
        "b = 'and this is the second half'\n",
        "a + b"
      ],
      "execution_count": null,
      "outputs": [
        {
          "output_type": "execute_result",
          "data": {
            "text/plain": [
              "'this is the first half and this is the second half'"
            ],
            "application/vnd.google.colaboratory.intrinsic+json": {
              "type": "string"
            }
          },
          "metadata": {},
          "execution_count": 32
        }
      ]
    },
    {
      "cell_type": "code",
      "metadata": {
        "id": "BVP1Hn5wqZkE",
        "colab": {
          "base_uri": "https://localhost:8080/"
        },
        "outputId": "4130a041-73be-4938-bc91-5c2b527c4fc4"
      },
      "source": [
        "b = \"Hello, World!\"\n",
        "print(b[:5])"
      ],
      "execution_count": null,
      "outputs": [
        {
          "output_type": "stream",
          "name": "stdout",
          "text": [
            "Hello\n"
          ]
        }
      ]
    },
    {
      "cell_type": "markdown",
      "metadata": {
        "deletable": true,
        "editable": true,
        "id": "bpuiwYsAZWXn"
      },
      "source": [
        "### Booleans"
      ]
    },
    {
      "cell_type": "code",
      "metadata": {
        "deletable": true,
        "editable": true,
        "id": "U-L7_rm4ZWXn",
        "colab": {
          "base_uri": "https://localhost:8080/"
        },
        "outputId": "a7c5330c-330b-47c2-cbf8-ad6311be25e6"
      },
      "source": [
        "True and True\n",
        "False or True"
      ],
      "execution_count": null,
      "outputs": [
        {
          "output_type": "execute_result",
          "data": {
            "text/plain": [
              "True"
            ]
          },
          "metadata": {},
          "execution_count": 34
        }
      ]
    },
    {
      "cell_type": "markdown",
      "metadata": {
        "deletable": true,
        "editable": true,
        "id": "W2ejgn1wZWXn"
      },
      "source": [
        "### Type casting"
      ]
    },
    {
      "cell_type": "markdown",
      "metadata": {
        "id": "A0WU7tMCThFU"
      },
      "source": [
        "The str, bool, int, and float types are also functions that can be used to cast values to those types:"
      ]
    },
    {
      "cell_type": "code",
      "metadata": {
        "deletable": true,
        "editable": true,
        "id": "JQkxis3OZWXn",
        "colab": {
          "base_uri": "https://localhost:8080/"
        },
        "outputId": "5d1dcd30-e999-40bb-f2b8-66a664c481a9"
      },
      "source": [
        "s = '3.14159'\n",
        "fval = float(s)\n",
        "type(fval)\n",
        "int(fval)\n",
        "bool(fval)\n",
        "bool(0)"
      ],
      "execution_count": null,
      "outputs": [
        {
          "output_type": "execute_result",
          "data": {
            "text/plain": [
              "False"
            ]
          },
          "metadata": {},
          "execution_count": 35
        }
      ]
    },
    {
      "cell_type": "markdown",
      "metadata": {
        "deletable": true,
        "editable": true,
        "id": "3HCsRzxiZWXn"
      },
      "source": [
        "### None"
      ]
    },
    {
      "cell_type": "code",
      "metadata": {
        "deletable": true,
        "editable": true,
        "id": "dsOEmmB3ZWXn",
        "colab": {
          "base_uri": "https://localhost:8080/"
        },
        "outputId": "2788a896-2538-440b-cadf-ff4bf0f399d8"
      },
      "source": [
        "a = None\n",
        "a is None\n",
        "b = 5\n",
        "b is not None"
      ],
      "execution_count": null,
      "outputs": [
        {
          "output_type": "execute_result",
          "data": {
            "text/plain": [
              "True"
            ]
          },
          "metadata": {},
          "execution_count": 36
        }
      ]
    },
    {
      "cell_type": "markdown",
      "metadata": {
        "id": "y3aIeSNkngOd"
      },
      "source": [
        "## Exercise 2"
      ]
    },
    {
      "cell_type": "markdown",
      "metadata": {
        "id": "W5vBcOOeljSz"
      },
      "source": [
        "1. Complete the following code."
      ]
    },
    {
      "cell_type": "code",
      "metadata": {
        "id": "pQSIlnenm7fy",
        "colab": {
          "base_uri": "https://localhost:8080/"
        },
        "outputId": "3820d781-3a14-44a0-9192-3c863f7db99f"
      },
      "source": [
        "year = '2020'\n",
        "month = '11'\n",
        "day = '26'\n",
        "date = month + '/' + day + '/' + year #display date in the format of \"MM/DD/YYYY\"\n",
        "print (date)"
      ],
      "execution_count": null,
      "outputs": [
        {
          "output_type": "stream",
          "name": "stdout",
          "text": [
            "11/26/2020\n"
          ]
        }
      ]
    },
    {
      "cell_type": "markdown",
      "metadata": {
        "id": "UrvfatEfo_xz"
      },
      "source": [
        "2. \n",
        "- Count the number of \"d\" in the str variable a\n",
        "- Replace all of \"d\" by \"e\".\n",
        "- Get last 5 characters of a."
      ]
    },
    {
      "cell_type": "code",
      "metadata": {
        "id": "6m6tm8wco_Lf",
        "colab": {
          "base_uri": "https://localhost:8080/"
        },
        "outputId": "20b969c3-dd35-46e5-cfce-e05ef490fb9c"
      },
      "source": [
        "a = '''Lorem ipsum dolor sit amet,\n",
        "consectetur adipiscing elit,\n",
        "sed do eiusmod tempor incididunt\n",
        "ut labore et dolore magna aliqua.'''\n",
        "a1 = len([letter for letter in a if letter == 'd'])\n",
        "a2 = a.replace('d', 'e')\n",
        "a3 = a[-5:]\n",
        "print(f'Count of letter d: {a1}')\n",
        "print(f'Replace all d with e: {a2}')\n",
        "print(f'Last 5 chars of a: {a3}')"
      ],
      "execution_count": null,
      "outputs": [
        {
          "output_type": "stream",
          "name": "stdout",
          "text": [
            "Count of letter d: 8\n",
            "Replace all d with e: Lorem ipsum eolor sit amet,\n",
            "consectetur aeipiscing elit,\n",
            "see eo eiusmoe tempor incieieunt\n",
            "ut labore et eolore magna aliqua.\n",
            "Last 5 chars of a: iqua.\n"
          ]
        }
      ]
    },
    {
      "cell_type": "markdown",
      "metadata": {
        "deletable": true,
        "editable": true,
        "id": "Z9OgLxKdZWXp"
      },
      "source": [
        "## Part 3. Control Flow"
      ]
    },
    {
      "cell_type": "markdown",
      "metadata": {
        "deletable": true,
        "editable": true,
        "id": "tN064sNFZWXp"
      },
      "source": [
        "### if, elif, and else"
      ]
    },
    {
      "cell_type": "markdown",
      "metadata": {
        "deletable": true,
        "editable": true,
        "id": "GmDIxYLDd2Hd"
      },
      "source": [
        "```python\n",
        "if x < 0:\n",
        "    print(\"It's negative\")\n",
        "```"
      ]
    },
    {
      "cell_type": "markdown",
      "metadata": {
        "deletable": true,
        "editable": true,
        "id": "cdauKImFZWXp"
      },
      "source": [
        "```python\n",
        "if x < 0:\n",
        "    print(\"It's negative\")\n",
        "else:\n",
        "    print(\"It's positive\")\n",
        "```"
      ]
    },
    {
      "cell_type": "markdown",
      "metadata": {
        "deletable": true,
        "editable": true,
        "id": "0f_cLf6jZWXp"
      },
      "source": [
        "```python\n",
        "if x < 0:\n",
        "    print(\"It's negative\")\n",
        "elif x == 0:\n",
        "    print(\"Equal to zero\")\n",
        "else:\n",
        "    print('Positive')\n",
        "```"
      ]
    },
    {
      "cell_type": "code",
      "metadata": {
        "deletable": true,
        "editable": true,
        "id": "h9SPfCd8ZWXp",
        "colab": {
          "base_uri": "https://localhost:8080/"
        },
        "outputId": "d02584b8-7bdf-4949-9107-bfc3b7413099"
      },
      "source": [
        "a = 5; b = 7\n",
        "c = 8; d = 4\n",
        "if a < b or c > d:\n",
        "    print('Made it')"
      ],
      "execution_count": null,
      "outputs": [
        {
          "output_type": "stream",
          "name": "stdout",
          "text": [
            "Made it\n"
          ]
        }
      ]
    },
    {
      "cell_type": "markdown",
      "metadata": {
        "deletable": true,
        "editable": true,
        "id": "GyUINGNhZWXp"
      },
      "source": [
        "### for loops"
      ]
    },
    {
      "cell_type": "markdown",
      "metadata": {
        "deletable": true,
        "editable": true,
        "id": "qJwM0FQ3ZWXp"
      },
      "source": [
        "```python\n",
        "\n",
        "for value in collection:\n",
        "    # do something with value\n",
        "\n",
        "```"
      ]
    },
    {
      "cell_type": "code",
      "metadata": {
        "colab": {
          "base_uri": "https://localhost:8080/"
        },
        "id": "fBkzVjeUflwe",
        "outputId": "dae075d6-e7b9-43d5-df61-db8db185d1dc"
      },
      "source": [
        "sequence = [1, 2, None, 4, None, 5]\n",
        "total = 0\n",
        "for value in sequence:\n",
        "    if value is None:\n",
        "        continue\n",
        "    total += value\n",
        "total"
      ],
      "execution_count": null,
      "outputs": [
        {
          "output_type": "execute_result",
          "data": {
            "text/plain": [
              "12"
            ]
          },
          "metadata": {},
          "execution_count": 52
        }
      ]
    },
    {
      "cell_type": "code",
      "metadata": {
        "id": "GDOb-JDFgpSX"
      },
      "source": [
        "sequence = [1, 2, 0, 4, 6, 5, 2, 1]\n",
        "total_until_5 = 0\n",
        "for value in sequence:\n",
        "    if value == 5:\n",
        "        break\n",
        "    total_until_5 += value"
      ],
      "execution_count": null,
      "outputs": []
    },
    {
      "cell_type": "code",
      "metadata": {
        "deletable": true,
        "editable": true,
        "id": "CvfyA6lxZWXq",
        "colab": {
          "base_uri": "https://localhost:8080/"
        },
        "outputId": "9e727256-f029-4d5f-bbea-f2d9e620784f"
      },
      "source": [
        "for i in range(4):\n",
        "    for j in range(4):\n",
        "        if j > i:\n",
        "            break\n",
        "        print((i, j))"
      ],
      "execution_count": null,
      "outputs": [
        {
          "output_type": "stream",
          "name": "stdout",
          "text": [
            "(0, 0)\n",
            "(1, 0)\n",
            "(1, 1)\n",
            "(2, 0)\n",
            "(2, 1)\n",
            "(2, 2)\n",
            "(3, 0)\n",
            "(3, 1)\n",
            "(3, 2)\n",
            "(3, 3)\n"
          ]
        }
      ]
    },
    {
      "cell_type": "markdown",
      "metadata": {
        "deletable": true,
        "editable": true,
        "id": "e2GJTAOJZWXq"
      },
      "source": [
        "for a, b, c in iterator:\n",
        "    # do something"
      ]
    },
    {
      "cell_type": "markdown",
      "metadata": {
        "deletable": true,
        "editable": true,
        "id": "FPrFyR7sZWXq"
      },
      "source": [
        "### while loops"
      ]
    },
    {
      "cell_type": "code",
      "metadata": {
        "id": "ezwcrWUgiciC"
      },
      "source": [
        "x = 256\n",
        "total = 0\n",
        "while x > 0:\n",
        "    if total > 500:\n",
        "        break\n",
        "    total += x\n",
        "    x = x // 2"
      ],
      "execution_count": null,
      "outputs": []
    },
    {
      "cell_type": "markdown",
      "metadata": {
        "id": "6t2_OOMOj8T_"
      },
      "source": [
        "## Exercise 3\n"
      ]
    },
    {
      "cell_type": "markdown",
      "metadata": {
        "id": "mAIwVQjdrrZD"
      },
      "source": [
        "1. Read code and think about the output."
      ]
    },
    {
      "cell_type": "code",
      "metadata": {
        "id": "SPT7xwgkrwyA",
        "colab": {
          "base_uri": "https://localhost:8080/"
        },
        "outputId": "a16e8ae1-5f90-45b2-b45b-a0d702a51db2"
      },
      "source": [
        "x = 41\n",
        "\n",
        "if x > 10:\n",
        "  print(\"Above ten,\")\n",
        "  if x > 20:\n",
        "    print(\"and also above 20!\")\n",
        "  else:\n",
        "    print(\"but not above 20.\")\n"
      ],
      "execution_count": null,
      "outputs": [
        {
          "output_type": "stream",
          "name": "stdout",
          "text": [
            "Above ten,\n",
            "and also above 20!\n"
          ]
        }
      ]
    },
    {
      "cell_type": "markdown",
      "metadata": {
        "id": "eXgVExKJr31Q"
      },
      "source": [
        "2. Write a for loop to print all the fruits but \"banana\"."
      ]
    },
    {
      "cell_type": "code",
      "metadata": {
        "id": "B9Te8fcpsXYX",
        "colab": {
          "base_uri": "https://localhost:8080/"
        },
        "outputId": "33431cb6-00f4-432f-9991-c5c5cafde8ef"
      },
      "source": [
        "fruits = [\"apple\", \"banana\", \"cherry\"]\n",
        "\n",
        "for fruit in fruits: \n",
        "  if fruit != 'banana': \n",
        "    print(fruit)"
      ],
      "execution_count": null,
      "outputs": [
        {
          "output_type": "stream",
          "name": "stdout",
          "text": [
            "apple\n",
            "cherry\n"
          ]
        }
      ]
    },
    {
      "cell_type": "markdown",
      "metadata": {
        "id": "v2sGGVXbsgyG"
      },
      "source": [
        "3. Exit the loop when i is 3:"
      ]
    },
    {
      "cell_type": "code",
      "metadata": {
        "id": "uSTF8tcEs5Vp",
        "colab": {
          "base_uri": "https://localhost:8080/"
        },
        "outputId": "fbbc7f70-5a0d-419b-c857-675a26651549"
      },
      "source": [
        "i = 1\n",
        "while i < 6:\n",
        "  print(i)\n",
        "  if i == 3:\n",
        "    break\n",
        "  i += 1"
      ],
      "execution_count": null,
      "outputs": [
        {
          "output_type": "stream",
          "name": "stdout",
          "text": [
            "1\n",
            "2\n",
            "3\n"
          ]
        }
      ]
    },
    {
      "cell_type": "markdown",
      "metadata": {
        "id": "de9FCj-ttDa9"
      },
      "source": [
        "## Part 4. Data Structures and Sequences"
      ]
    },
    {
      "cell_type": "markdown",
      "metadata": {
        "deletable": true,
        "editable": true,
        "id": "vSeoyCPavX3-"
      },
      "source": [
        "### Tuple"
      ]
    },
    {
      "cell_type": "markdown",
      "metadata": {
        "id": "1csAKSC9zopy"
      },
      "source": [
        "A tuple is a fixed-length, immutable sequence of Python objects. The easiest way to create one is with a comma-separated sequence of values:"
      ]
    },
    {
      "cell_type": "code",
      "metadata": {
        "deletable": true,
        "editable": true,
        "id": "EGBIR1fevX3-",
        "colab": {
          "base_uri": "https://localhost:8080/"
        },
        "outputId": "9dfe6feb-3033-4209-8403-2cd9d0a88cb1"
      },
      "source": [
        "tup = 4, 5, 6\n",
        "tup"
      ],
      "execution_count": null,
      "outputs": [
        {
          "output_type": "execute_result",
          "data": {
            "text/plain": [
              "(4, 5, 6)"
            ]
          },
          "metadata": {
            "tags": []
          },
          "execution_count": 48
        }
      ]
    },
    {
      "cell_type": "code",
      "metadata": {
        "deletable": true,
        "editable": true,
        "id": "4NiDkIN6vX3_"
      },
      "source": [
        "nested_tup = (4, 5, 6), (7, 8)\n",
        "nested_tup"
      ],
      "execution_count": null,
      "outputs": []
    },
    {
      "cell_type": "code",
      "metadata": {
        "deletable": true,
        "editable": true,
        "id": "bvVThZw0vX3_"
      },
      "source": [
        "tuple([4, 0, 2])\n",
        "tup = tuple('string')\n",
        "tup"
      ],
      "execution_count": null,
      "outputs": []
    },
    {
      "cell_type": "code",
      "metadata": {
        "deletable": true,
        "editable": true,
        "id": "FUs65DWpvX3_"
      },
      "source": [
        "tup[0]"
      ],
      "execution_count": null,
      "outputs": []
    },
    {
      "cell_type": "code",
      "metadata": {
        "deletable": true,
        "editable": true,
        "id": "LdO0kcAwvX3_"
      },
      "source": [
        "tup = tuple(['foo', [1, 2], True])\n",
        "tup[2] = False"
      ],
      "execution_count": null,
      "outputs": []
    },
    {
      "cell_type": "code",
      "metadata": {
        "deletable": true,
        "editable": true,
        "id": "d5IM-18MvX4A"
      },
      "source": [
        "(4, None, 'foo') + (6, 0) + ('bar',)"
      ],
      "execution_count": null,
      "outputs": []
    },
    {
      "cell_type": "code",
      "metadata": {
        "deletable": true,
        "editable": true,
        "id": "n7LPs-B5vX4A"
      },
      "source": [
        "('foo', 'bar') * 4"
      ],
      "execution_count": null,
      "outputs": []
    },
    {
      "cell_type": "markdown",
      "metadata": {
        "deletable": true,
        "editable": true,
        "id": "19yYrmD5vX4A"
      },
      "source": [
        "#### Unpacking tuples"
      ]
    },
    {
      "cell_type": "code",
      "metadata": {
        "deletable": true,
        "editable": true,
        "id": "9x-k3f4IvX4A",
        "colab": {
          "base_uri": "https://localhost:8080/"
        },
        "outputId": "ea72e223-1dae-4df5-97d6-1da2c5ea9943"
      },
      "source": [
        "tup = (4, 5, 6)\n",
        "a, b, c = tup\n",
        "b"
      ],
      "execution_count": null,
      "outputs": [
        {
          "output_type": "execute_result",
          "data": {
            "text/plain": [
              "5"
            ]
          },
          "metadata": {
            "tags": []
          },
          "execution_count": 49
        }
      ]
    },
    {
      "cell_type": "code",
      "metadata": {
        "deletable": true,
        "editable": true,
        "id": "nQvrXqUGvX4B"
      },
      "source": [
        "tup = 4, 5, (6, 7)\n",
        "a, b, (c, d) = tup\n",
        "d"
      ],
      "execution_count": null,
      "outputs": []
    },
    {
      "cell_type": "code",
      "metadata": {
        "deletable": true,
        "editable": true,
        "id": "w43llKFfvX4B"
      },
      "source": [
        "seq = [(1, 2, 3), (4, 5, 6), (7, 8, 9)]\n",
        "for a, b, c in seq:\n",
        "    print('a={0}, b={1}, c={2}'.format(a, b, c))"
      ],
      "execution_count": null,
      "outputs": []
    },
    {
      "cell_type": "code",
      "metadata": {
        "deletable": true,
        "editable": true,
        "id": "MPeilplKvX4B"
      },
      "source": [
        "values = 1, 2, 3, 4, 5\n",
        "a, b, *rest = values\n",
        "a, b\n",
        "rest"
      ],
      "execution_count": null,
      "outputs": []
    },
    {
      "cell_type": "code",
      "metadata": {
        "deletable": true,
        "editable": true,
        "id": "L_XjTk-avX4C"
      },
      "source": [
        "a, b, *_ = values"
      ],
      "execution_count": null,
      "outputs": []
    },
    {
      "cell_type": "markdown",
      "metadata": {
        "deletable": true,
        "editable": true,
        "id": "Gitf3sEIvX4C"
      },
      "source": [
        "#### Tuple methods"
      ]
    },
    {
      "cell_type": "code",
      "metadata": {
        "deletable": true,
        "editable": true,
        "id": "rOUXpmT8vX4C"
      },
      "source": [
        "a = (1, 2, 2, 2, 3, 4, 2)\n",
        "a.count(2)"
      ],
      "execution_count": null,
      "outputs": []
    },
    {
      "cell_type": "markdown",
      "metadata": {
        "deletable": true,
        "editable": true,
        "id": "S-BnuGu0vX4C"
      },
      "source": [
        "### List"
      ]
    },
    {
      "cell_type": "markdown",
      "metadata": {
        "id": "fuuDmG9x9ZtQ"
      },
      "source": [
        "Lists are variable-length and their contents can be modified"
      ]
    },
    {
      "cell_type": "code",
      "metadata": {
        "deletable": true,
        "editable": true,
        "id": "ToHyBtZ6vX4C",
        "colab": {
          "base_uri": "https://localhost:8080/"
        },
        "outputId": "ab2d2083-3dd8-474a-d343-2aad91076d1a"
      },
      "source": [
        "a_list = [2, 3, 7, None]\n",
        "tup = ('foo', 'bar', 'baz')\n",
        "b_list = list(tup)\n",
        "b_list\n",
        "b_list[1] = 'peekaboo'\n",
        "b_list"
      ],
      "execution_count": null,
      "outputs": [
        {
          "output_type": "execute_result",
          "data": {
            "text/plain": [
              "['foo', 'peekaboo', 'baz']"
            ]
          },
          "metadata": {},
          "execution_count": 63
        }
      ]
    },
    {
      "cell_type": "code",
      "metadata": {
        "deletable": true,
        "editable": true,
        "id": "BT_GlrWxvX4C",
        "colab": {
          "base_uri": "https://localhost:8080/"
        },
        "outputId": "559d43b9-00c1-4a03-bde4-5ec869f4b98c"
      },
      "source": [
        "gen = range(10)\n",
        "gen\n",
        "list(gen)"
      ],
      "execution_count": null,
      "outputs": [
        {
          "output_type": "execute_result",
          "data": {
            "text/plain": [
              "[0, 1, 2, 3, 4, 5, 6, 7, 8, 9]"
            ]
          },
          "metadata": {},
          "execution_count": 64
        }
      ]
    },
    {
      "cell_type": "markdown",
      "metadata": {
        "deletable": true,
        "editable": true,
        "id": "LE_G1SQyvX4C"
      },
      "source": [
        "#### Adding and removing elements"
      ]
    },
    {
      "cell_type": "code",
      "metadata": {
        "deletable": true,
        "editable": true,
        "id": "89JNAU21vX4D",
        "colab": {
          "base_uri": "https://localhost:8080/"
        },
        "outputId": "cc25836f-d88c-4a40-cbf5-9c3239a7bb48"
      },
      "source": [
        "b_list.append('dwarf')\n",
        "b_list"
      ],
      "execution_count": null,
      "outputs": [
        {
          "output_type": "execute_result",
          "data": {
            "text/plain": [
              "['foo', 'peekaboo', 'baz', 'dwarf']"
            ]
          },
          "metadata": {},
          "execution_count": 65
        }
      ]
    },
    {
      "cell_type": "code",
      "metadata": {
        "deletable": true,
        "editable": true,
        "id": "DD2wgTrLvX4D",
        "colab": {
          "base_uri": "https://localhost:8080/"
        },
        "outputId": "2cc7b735-36f1-4afe-878d-7d5e763f27f0"
      },
      "source": [
        "b_list.insert(1, 'red')\n",
        "b_list"
      ],
      "execution_count": null,
      "outputs": [
        {
          "output_type": "execute_result",
          "data": {
            "text/plain": [
              "['foo', 'red', 'peekaboo', 'baz', 'dwarf']"
            ]
          },
          "metadata": {},
          "execution_count": 66
        }
      ]
    },
    {
      "cell_type": "code",
      "metadata": {
        "deletable": true,
        "editable": true,
        "id": "s23LHjB-vX4D",
        "colab": {
          "base_uri": "https://localhost:8080/"
        },
        "outputId": "9e9f29df-ad55-42fa-ef07-128f815a4815"
      },
      "source": [
        "b_list.pop(2)\n",
        "b_list"
      ],
      "execution_count": null,
      "outputs": [
        {
          "output_type": "execute_result",
          "data": {
            "text/plain": [
              "['foo', 'red', 'baz', 'dwarf']"
            ]
          },
          "metadata": {},
          "execution_count": 67
        }
      ]
    },
    {
      "cell_type": "code",
      "metadata": {
        "deletable": true,
        "editable": true,
        "id": "Uw8A9nVnvX4D",
        "colab": {
          "base_uri": "https://localhost:8080/"
        },
        "outputId": "0237373d-e32d-4a81-9143-a18a55e9fc95"
      },
      "source": [
        "b_list.append('foo')\n",
        "b_list\n",
        "b_list.remove('foo')\n",
        "b_list"
      ],
      "execution_count": null,
      "outputs": [
        {
          "output_type": "execute_result",
          "data": {
            "text/plain": [
              "['red', 'baz', 'dwarf', 'foo']"
            ]
          },
          "metadata": {},
          "execution_count": 68
        }
      ]
    },
    {
      "cell_type": "code",
      "metadata": {
        "deletable": true,
        "editable": true,
        "id": "VWq6vWdgvX4D",
        "colab": {
          "base_uri": "https://localhost:8080/"
        },
        "outputId": "5b9a7790-c6b2-40c9-d626-b86c0bd97502"
      },
      "source": [
        "'dwarf' in b_list"
      ],
      "execution_count": null,
      "outputs": [
        {
          "output_type": "execute_result",
          "data": {
            "text/plain": [
              "True"
            ]
          },
          "metadata": {},
          "execution_count": 69
        }
      ]
    },
    {
      "cell_type": "code",
      "metadata": {
        "deletable": true,
        "editable": true,
        "id": "-Q3Fxee5vX4D",
        "colab": {
          "base_uri": "https://localhost:8080/"
        },
        "outputId": "da0d59ba-4012-4b99-bde1-c8389aa1949d"
      },
      "source": [
        "'dwarf' not in b_list"
      ],
      "execution_count": null,
      "outputs": [
        {
          "output_type": "execute_result",
          "data": {
            "text/plain": [
              "False"
            ]
          },
          "metadata": {},
          "execution_count": 70
        }
      ]
    },
    {
      "cell_type": "markdown",
      "metadata": {
        "deletable": true,
        "editable": true,
        "id": "5X0wR2grvX4D"
      },
      "source": [
        "#### Concatenating and combining lists"
      ]
    },
    {
      "cell_type": "code",
      "metadata": {
        "deletable": true,
        "editable": true,
        "id": "3SXBiEmOvX4E",
        "colab": {
          "base_uri": "https://localhost:8080/"
        },
        "outputId": "af604e66-44b4-4138-e15e-d7a725c66060"
      },
      "source": [
        "[4, None, 'foo'] + [7, 8, (2, 3)]"
      ],
      "execution_count": null,
      "outputs": [
        {
          "output_type": "execute_result",
          "data": {
            "text/plain": [
              "[4, None, 'foo', 7, 8, (2, 3)]"
            ]
          },
          "metadata": {},
          "execution_count": 71
        }
      ]
    },
    {
      "cell_type": "code",
      "metadata": {
        "deletable": true,
        "editable": true,
        "id": "SZFd-ZbNvX4E",
        "colab": {
          "base_uri": "https://localhost:8080/"
        },
        "outputId": "6fb1ab9b-311e-46a9-843a-ea91e1391da6"
      },
      "source": [
        "x = [4, None, 'foo']\n",
        "x.extend([7, 8, (2, 3)])\n",
        "x"
      ],
      "execution_count": null,
      "outputs": [
        {
          "output_type": "execute_result",
          "data": {
            "text/plain": [
              "[4, None, 'foo', 7, 8, (2, 3)]"
            ]
          },
          "metadata": {},
          "execution_count": 72
        }
      ]
    },
    {
      "cell_type": "markdown",
      "metadata": {
        "deletable": true,
        "editable": true,
        "id": "d_QbeVvuvX4E"
      },
      "source": [
        "everything = []\n",
        "for chunk in list_of_lists:\n",
        "    everything.extend(chunk)"
      ]
    },
    {
      "cell_type": "markdown",
      "metadata": {
        "deletable": true,
        "editable": true,
        "id": "dlBJB2iPvX4E"
      },
      "source": [
        "everything = []\n",
        "for chunk in list_of_lists:\n",
        "    everything = everything + chunk"
      ]
    },
    {
      "cell_type": "markdown",
      "metadata": {
        "deletable": true,
        "editable": true,
        "id": "geZ5OSo1vX4E"
      },
      "source": [
        "#### Sorting"
      ]
    },
    {
      "cell_type": "code",
      "metadata": {
        "deletable": true,
        "editable": true,
        "id": "0znOnG7yvX4E",
        "colab": {
          "base_uri": "https://localhost:8080/"
        },
        "outputId": "2d3c7254-fb14-4ad2-8df1-e9281a30fd2b"
      },
      "source": [
        "a = [7, 2, 5, 1, 3]\n",
        "a.sort()\n",
        "a"
      ],
      "execution_count": null,
      "outputs": [
        {
          "output_type": "execute_result",
          "data": {
            "text/plain": [
              "[1, 2, 3, 5, 7]"
            ]
          },
          "metadata": {},
          "execution_count": 73
        }
      ]
    },
    {
      "cell_type": "code",
      "metadata": {
        "deletable": true,
        "editable": true,
        "id": "UjwNrcZEvX4E",
        "colab": {
          "base_uri": "https://localhost:8080/"
        },
        "outputId": "7de6291e-32cf-4d7a-b891-e591ee61981a"
      },
      "source": [
        "b = ['saw', 'small', 'He', 'foxes', 'six']\n",
        "b.sort(key=len)\n",
        "b"
      ],
      "execution_count": null,
      "outputs": [
        {
          "output_type": "execute_result",
          "data": {
            "text/plain": [
              "['He', 'saw', 'six', 'small', 'foxes']"
            ]
          },
          "metadata": {},
          "execution_count": 74
        }
      ]
    },
    {
      "cell_type": "markdown",
      "metadata": {
        "deletable": true,
        "editable": true,
        "id": "l09Gwce9vX4F"
      },
      "source": [
        "#### Slicing"
      ]
    },
    {
      "cell_type": "code",
      "metadata": {
        "deletable": true,
        "editable": true,
        "id": "l9bkOBoXvX4F",
        "colab": {
          "base_uri": "https://localhost:8080/"
        },
        "outputId": "d2ba1cf7-babc-49f5-8df8-a4336b0f6266"
      },
      "source": [
        "seq = [7, 2, 3, 7, 5, 6, 0, 1]\n",
        "seq[1:5]"
      ],
      "execution_count": null,
      "outputs": [
        {
          "output_type": "execute_result",
          "data": {
            "text/plain": [
              "[2, 3, 7, 5]"
            ]
          },
          "metadata": {},
          "execution_count": 75
        }
      ]
    },
    {
      "cell_type": "code",
      "metadata": {
        "deletable": true,
        "editable": true,
        "id": "9TsKwCVFvX4F",
        "colab": {
          "base_uri": "https://localhost:8080/"
        },
        "outputId": "d099e9c2-4717-424e-f830-ea0e86e2c00f"
      },
      "source": [
        "seq[3:4] = [6, 3]\n",
        "seq"
      ],
      "execution_count": null,
      "outputs": [
        {
          "output_type": "execute_result",
          "data": {
            "text/plain": [
              "[7, 2, 3, 6, 3, 5, 6, 0, 1]"
            ]
          },
          "metadata": {},
          "execution_count": 76
        }
      ]
    },
    {
      "cell_type": "code",
      "metadata": {
        "deletable": true,
        "editable": true,
        "id": "cBO89IHzvX4F",
        "colab": {
          "base_uri": "https://localhost:8080/"
        },
        "outputId": "5b26fc62-bf04-402a-e5d9-69ea4d05308e"
      },
      "source": [
        "seq[:5]\n"
      ],
      "execution_count": null,
      "outputs": [
        {
          "output_type": "execute_result",
          "data": {
            "text/plain": [
              "[7, 2, 3, 6, 3]"
            ]
          },
          "metadata": {},
          "execution_count": 77
        }
      ]
    },
    {
      "cell_type": "code",
      "metadata": {
        "id": "utj6RUDc-ee4",
        "colab": {
          "base_uri": "https://localhost:8080/"
        },
        "outputId": "680eb91a-8eb2-4620-f8c4-36f7b3debca9"
      },
      "source": [
        "seq[3:]"
      ],
      "execution_count": null,
      "outputs": [
        {
          "output_type": "execute_result",
          "data": {
            "text/plain": [
              "[6, 3, 5, 6, 0, 1]"
            ]
          },
          "metadata": {},
          "execution_count": 78
        }
      ]
    },
    {
      "cell_type": "code",
      "metadata": {
        "deletable": true,
        "editable": true,
        "id": "-LqEZ4hQvX4F",
        "colab": {
          "base_uri": "https://localhost:8080/"
        },
        "outputId": "3001d954-98d3-45c9-afbc-e3114aa2b5d6"
      },
      "source": [
        "seq[-4:]"
      ],
      "execution_count": null,
      "outputs": [
        {
          "output_type": "execute_result",
          "data": {
            "text/plain": [
              "[5, 6, 0, 1]"
            ]
          },
          "metadata": {},
          "execution_count": 79
        }
      ]
    },
    {
      "cell_type": "markdown",
      "metadata": {
        "deletable": true,
        "editable": true,
        "id": "K5zxOruxvX4G"
      },
      "source": [
        "### Built-in Sequence Functions"
      ]
    },
    {
      "cell_type": "markdown",
      "metadata": {
        "deletable": true,
        "editable": true,
        "id": "8WkGyiVFvX4G"
      },
      "source": [
        "#### enumerate"
      ]
    },
    {
      "cell_type": "markdown",
      "metadata": {
        "id": "2uFwF5ogBEuZ"
      },
      "source": [
        "It’s common when iterating over a sequence to want to **keep track of the index** of the current item."
      ]
    },
    {
      "cell_type": "markdown",
      "metadata": {
        "deletable": true,
        "editable": true,
        "id": "cXQjO_v6vX4G"
      },
      "source": [
        "\n",
        "```python\n",
        "i = 0\n",
        "for value in collection:\n",
        "   # do something with value\n",
        "   i += 1\n",
        "```"
      ]
    },
    {
      "cell_type": "markdown",
      "metadata": {
        "deletable": true,
        "editable": true,
        "id": "zvbrpIBFvX4G"
      },
      "source": [
        "```python\n",
        "for i, value in enumerate(collection):\n",
        "   # do something with value\n",
        "```"
      ]
    },
    {
      "cell_type": "code",
      "metadata": {
        "deletable": true,
        "editable": true,
        "id": "qO1eqeMIvX4G"
      },
      "source": [
        "some_list = ['foo', 'bar', 'baz']\n",
        "mapping = {}\n",
        "for i, v in enumerate(some_list):\n",
        "    mapping[v] = i\n",
        "mapping"
      ],
      "execution_count": null,
      "outputs": []
    },
    {
      "cell_type": "markdown",
      "metadata": {
        "deletable": true,
        "editable": true,
        "id": "cJ6P9El0vX4G"
      },
      "source": [
        "#### sorted"
      ]
    },
    {
      "cell_type": "code",
      "metadata": {
        "deletable": true,
        "editable": true,
        "id": "dU-0fE5ovX4H"
      },
      "source": [
        "sorted([7, 1, 2, 6, 0, 3, 2])\n",
        "sorted('horse race')"
      ],
      "execution_count": null,
      "outputs": []
    },
    {
      "cell_type": "markdown",
      "metadata": {
        "deletable": true,
        "editable": true,
        "id": "i2HsjxXxvX4H"
      },
      "source": [
        "#### zip"
      ]
    },
    {
      "cell_type": "code",
      "metadata": {
        "deletable": true,
        "editable": true,
        "id": "GbNgDb1KvX4H",
        "colab": {
          "base_uri": "https://localhost:8080/"
        },
        "outputId": "ee12583e-535a-44ed-9bea-568140931f50"
      },
      "source": [
        "seq1 = ['foo', 'bar', 'baz']\n",
        "seq2 = ['one', 'two', 'three']\n",
        "zipped = zip(seq1, seq2)\n",
        "list(zipped)"
      ],
      "execution_count": null,
      "outputs": [
        {
          "output_type": "execute_result",
          "data": {
            "text/plain": [
              "[('foo', 'one'), ('bar', 'two'), ('baz', 'three')]"
            ]
          },
          "metadata": {
            "tags": []
          },
          "execution_count": 57
        }
      ]
    },
    {
      "cell_type": "code",
      "metadata": {
        "deletable": true,
        "editable": true,
        "id": "pdBe82HsvX4H"
      },
      "source": [
        "seq3 = [False, True]\n",
        "list(zip(seq1, seq2, seq3))"
      ],
      "execution_count": null,
      "outputs": []
    },
    {
      "cell_type": "markdown",
      "metadata": {
        "deletable": true,
        "editable": true,
        "id": "2uEe38ERvX4H"
      },
      "source": [
        "#### reversed"
      ]
    },
    {
      "cell_type": "code",
      "metadata": {
        "deletable": true,
        "editable": true,
        "id": "BFF1Y49QvX4H",
        "colab": {
          "base_uri": "https://localhost:8080/"
        },
        "outputId": "45d527ac-6d5b-4116-ee83-b8ff031e31d1"
      },
      "source": [
        "list(reversed(range(10)))"
      ],
      "execution_count": null,
      "outputs": [
        {
          "output_type": "execute_result",
          "data": {
            "text/plain": [
              "[9, 8, 7, 6, 5, 4, 3, 2, 1, 0]"
            ]
          },
          "metadata": {
            "tags": []
          },
          "execution_count": 59
        }
      ]
    },
    {
      "cell_type": "code",
      "metadata": {
        "colab": {
          "base_uri": "https://localhost:8080/"
        },
        "id": "B99dOLYU-gMw",
        "outputId": "0984e1be-1f43-4ec2-d1c4-89c591c7405f"
      },
      "source": [
        "seq[-6:-2]"
      ],
      "execution_count": null,
      "outputs": [
        {
          "output_type": "execute_result",
          "data": {
            "text/plain": [
              "[3, 7, 5, 6]"
            ]
          },
          "metadata": {
            "tags": []
          },
          "execution_count": 60
        }
      ]
    },
    {
      "cell_type": "code",
      "metadata": {
        "deletable": true,
        "editable": true,
        "id": "pC1vheZsvX4F",
        "colab": {
          "base_uri": "https://localhost:8080/"
        },
        "outputId": "1f366eb7-b211-4e52-a4f6-7c480a514a6c"
      },
      "source": [
        "seq[::2]"
      ],
      "execution_count": null,
      "outputs": [
        {
          "output_type": "execute_result",
          "data": {
            "text/plain": [
              "[7, 3, 5, 0]"
            ]
          },
          "metadata": {
            "tags": []
          },
          "execution_count": 56
        }
      ]
    },
    {
      "cell_type": "code",
      "metadata": {
        "deletable": true,
        "editable": true,
        "id": "lZ-bEqbVvX4G",
        "colab": {
          "base_uri": "https://localhost:8080/"
        },
        "outputId": "7440cdaf-ffcc-4d75-cdba-571cbcf5fba9"
      },
      "source": [
        "seq[::-1]"
      ],
      "execution_count": null,
      "outputs": [
        {
          "output_type": "execute_result",
          "data": {
            "text/plain": [
              "[1, 0, 6, 5, 7, 3, 2, 7]"
            ]
          },
          "metadata": {
            "tags": []
          },
          "execution_count": 55
        }
      ]
    },
    {
      "cell_type": "markdown",
      "metadata": {
        "deletable": true,
        "editable": true,
        "id": "jHZFCX2XC19-"
      },
      "source": [
        "### dict"
      ]
    },
    {
      "cell_type": "markdown",
      "metadata": {
        "id": "_aFnZOGAEOtQ"
      },
      "source": [
        "It is a flexibly sized collection of key-value pairs, where key and value are Python objects."
      ]
    },
    {
      "cell_type": "code",
      "metadata": {
        "deletable": true,
        "editable": true,
        "id": "VbHXELtiC19_"
      },
      "source": [
        "empty_dict = {}\n",
        "d1 = {'a' : 'some value', 'b' : [1, 2, 3, 4]}\n",
        "d1"
      ],
      "execution_count": null,
      "outputs": []
    },
    {
      "cell_type": "code",
      "metadata": {
        "deletable": true,
        "editable": true,
        "id": "95J9XL01C19_"
      },
      "source": [
        "d1[7] = 'an integer'\n",
        "d1\n",
        "d1['b']"
      ],
      "execution_count": null,
      "outputs": []
    },
    {
      "cell_type": "code",
      "metadata": {
        "deletable": true,
        "editable": true,
        "id": "yw0mUyllC19_"
      },
      "source": [
        "'b' in d1"
      ],
      "execution_count": null,
      "outputs": []
    },
    {
      "cell_type": "code",
      "metadata": {
        "deletable": true,
        "editable": true,
        "id": "lzWEKrrAC19_"
      },
      "source": [
        "d1[5] = 'some value'\n",
        "d1\n",
        "d1['dummy'] = 'another value'\n",
        "d1\n",
        "del d1[5]\n",
        "d1\n",
        "ret = d1.pop('dummy')\n",
        "ret\n",
        "d1"
      ],
      "execution_count": null,
      "outputs": []
    },
    {
      "cell_type": "code",
      "metadata": {
        "deletable": true,
        "editable": true,
        "id": "sVsQInVxC19_"
      },
      "source": [
        "list(d1.keys())\n",
        "list(d1.values())"
      ],
      "execution_count": null,
      "outputs": []
    },
    {
      "cell_type": "code",
      "metadata": {
        "deletable": true,
        "editable": true,
        "id": "HDVdzua-C19_"
      },
      "source": [
        "d1.update({'b' : 'foo', 'c' : 12})\n",
        "d1"
      ],
      "execution_count": null,
      "outputs": []
    },
    {
      "cell_type": "markdown",
      "metadata": {
        "deletable": true,
        "editable": true,
        "id": "MGidrH57D8dV"
      },
      "source": [
        "### set"
      ]
    },
    {
      "cell_type": "code",
      "metadata": {
        "deletable": true,
        "editable": true,
        "id": "T0B0y4LyD8da"
      },
      "source": [
        "set([2, 2, 2, 1, 3, 3])\n",
        "{2, 2, 2, 1, 3, 3}"
      ],
      "execution_count": null,
      "outputs": []
    },
    {
      "cell_type": "code",
      "metadata": {
        "deletable": true,
        "editable": true,
        "id": "TYLi2DxOD8da"
      },
      "source": [
        "a = {1, 2, 3, 4, 5}\n",
        "b = {3, 4, 5, 6, 7, 8}"
      ],
      "execution_count": null,
      "outputs": []
    },
    {
      "cell_type": "code",
      "metadata": {
        "deletable": true,
        "editable": true,
        "id": "ASJVwuXVD8dc"
      },
      "source": [
        "a.union(b)\n",
        "a | b"
      ],
      "execution_count": null,
      "outputs": []
    },
    {
      "cell_type": "code",
      "metadata": {
        "deletable": true,
        "editable": true,
        "id": "LTDYiefAD8dc"
      },
      "source": [
        "a.intersection(b)\n",
        "a & b"
      ],
      "execution_count": null,
      "outputs": []
    },
    {
      "cell_type": "code",
      "metadata": {
        "deletable": true,
        "editable": true,
        "id": "isywACe9D8dc"
      },
      "source": [
        "c = a.copy()\n",
        "c |= b\n",
        "c\n",
        "d = a.copy()\n",
        "d &= b\n",
        "d"
      ],
      "execution_count": null,
      "outputs": []
    },
    {
      "cell_type": "code",
      "metadata": {
        "deletable": true,
        "editable": true,
        "id": "4mMcHtBCD8dd"
      },
      "source": [
        "my_data = [1, 2, 3, 4]\n",
        "my_set = {tuple(my_data)}\n",
        "my_set"
      ],
      "execution_count": null,
      "outputs": []
    },
    {
      "cell_type": "code",
      "metadata": {
        "deletable": true,
        "editable": true,
        "id": "25PjttMID8dd"
      },
      "source": [
        "a_set = {1, 2, 3, 4, 5}\n",
        "{1, 2, 3}.issubset(a_set)\n",
        "a_set.issuperset({1, 2, 3})"
      ],
      "execution_count": null,
      "outputs": []
    },
    {
      "cell_type": "code",
      "metadata": {
        "deletable": true,
        "editable": true,
        "id": "VljOq9i6D8dd"
      },
      "source": [
        "{1, 2, 3} == {3, 2, 1}"
      ],
      "execution_count": null,
      "outputs": []
    },
    {
      "cell_type": "markdown",
      "metadata": {
        "id": "bzKZKwfPEeSu"
      },
      "source": [
        "![image.png](data:image/png;base64,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)"
      ]
    },
    {
      "cell_type": "markdown",
      "metadata": {
        "deletable": true,
        "editable": true,
        "id": "BcrNDcDVvX4L"
      },
      "source": [
        "### List, Set, and Dict Comprehensions"
      ]
    },
    {
      "cell_type": "markdown",
      "metadata": {
        "deletable": true,
        "editable": true,
        "id": "LeJUXh5LvX4L"
      },
      "source": [
        "Allow you to concisely form a new list by filtering the elements of a collection, transforming the elements passing the filter in one concise expression."
      ]
    },
    {
      "cell_type": "markdown",
      "metadata": {
        "id": "K3r-eoLzFKTr"
      },
      "source": [
        "[expr for val in collection if condition]"
      ]
    },
    {
      "cell_type": "markdown",
      "metadata": {
        "id": "ZYyu6rU9FVWu"
      },
      "source": [
        "```python\n",
        "result = [] \n",
        "\n",
        "for val in collection:\n",
        "  if condition:\n",
        "    result.append(expr)\n",
        "```"
      ]
    },
    {
      "cell_type": "code",
      "metadata": {
        "deletable": true,
        "editable": true,
        "id": "mBUxhzQbvX4M"
      },
      "source": [
        "strings = ['a', 'as', 'bat', 'car', 'dove', 'python']\n",
        "[x.upper() for x in strings if len(x) > 2]"
      ],
      "execution_count": null,
      "outputs": []
    },
    {
      "cell_type": "code",
      "metadata": {
        "deletable": true,
        "editable": true,
        "id": "yV3CytcdvX4M"
      },
      "source": [
        "unique_lengths = {len(x) for x in strings}\n",
        "unique_lengths"
      ],
      "execution_count": null,
      "outputs": []
    },
    {
      "cell_type": "code",
      "metadata": {
        "deletable": true,
        "editable": true,
        "id": "8TBUEE89vX4M"
      },
      "source": [
        "set(map(len, strings))"
      ],
      "execution_count": null,
      "outputs": []
    },
    {
      "cell_type": "code",
      "metadata": {
        "deletable": true,
        "editable": true,
        "id": "6I0vTpbDvX4M"
      },
      "source": [
        "loc_mapping = {val : index for index, val in enumerate(strings)} \n",
        "loc_mapping"
      ],
      "execution_count": null,
      "outputs": []
    },
    {
      "cell_type": "markdown",
      "metadata": {
        "id": "AD6LBww9WL7i"
      },
      "source": [
        "### Lambda"
      ]
    },
    {
      "cell_type": "code",
      "metadata": {
        "id": "1lycmW_eWSUB"
      },
      "source": [
        "my_function = lambda a, b, c : a + b"
      ],
      "execution_count": null,
      "outputs": []
    },
    {
      "cell_type": "markdown",
      "metadata": {
        "id": "-Rl5m-dZHk5s"
      },
      "source": [
        "## Exercise 4"
      ]
    },
    {
      "cell_type": "markdown",
      "metadata": {
        "id": "tBalrCA0HqPx"
      },
      "source": [
        "1. Write a for loop to sum all the items in a list."
      ]
    },
    {
      "cell_type": "code",
      "metadata": {
        "id": "N-YfOJNEHzoa",
        "colab": {
          "base_uri": "https://localhost:8080/"
        },
        "outputId": "7ef000af-f7f0-4ce6-a0e1-224f71abdb3d"
      },
      "source": [
        "items = [1,2,3,4,6]\n",
        "sum_all = 0\n",
        "for item in items: \n",
        "  sum_all += item\n",
        "print(sum_all)\n",
        "\n"
      ],
      "execution_count": null,
      "outputs": [
        {
          "output_type": "stream",
          "name": "stdout",
          "text": [
            "16\n"
          ]
        }
      ]
    },
    {
      "cell_type": "markdown",
      "metadata": {
        "id": "IJXmECcyH69R"
      },
      "source": [
        "2. Complete the following code"
      ]
    },
    {
      "cell_type": "code",
      "metadata": {
        "id": "Ufb0-pFGH6LN",
        "colab": {
          "base_uri": "https://localhost:8080/"
        },
        "outputId": "24d7a618-9db5-41b8-9c01-5f5b74cf110c"
      },
      "source": [
        "colors = ['Red', 'Blue', 'Green', 'Black', 'White']\n",
        "\n",
        "# Getting the first element\n",
        "first = colors[0]\n",
        "print(f'First element: {first}')\n",
        "\n",
        "# Getting the last element\n",
        "last = colors[-1]\n",
        "print(f'Last element: {last}')\n",
        "\n",
        "# Adding an \"Orange\" to the end of the list\n",
        "colors.append('Orange')\n",
        "print(f'Adding Orange: {colors}')\n",
        "\n",
        "# Getting the first three items\n",
        "first3 = colors[0:3]\n",
        "print(f'First three items: {first3}')\n",
        "\n",
        "# Using a loop to convert a list of names to upper case\n",
        "for color in colors: \n",
        "  print(color.upper())\n",
        "\n",
        "# Using a comprehension to convert a list of names to upper case\n",
        "colors_up = [color.upper() for color in colors]\n",
        "print(colors_up)"
      ],
      "execution_count": null,
      "outputs": [
        {
          "output_type": "stream",
          "name": "stdout",
          "text": [
            "First element: Red\n",
            "Last element: White\n",
            "Adding Orange: ['Red', 'Blue', 'Green', 'Black', 'White', 'Orange']\n",
            "First three items: ['Red', 'Blue', 'Green']\n",
            "RED\n",
            "BLUE\n",
            "GREEN\n",
            "BLACK\n",
            "WHITE\n",
            "ORANGE\n",
            "['RED', 'BLUE', 'GREEN', 'BLACK', 'WHITE', 'ORANGE']\n"
          ]
        }
      ]
    },
    {
      "cell_type": "markdown",
      "metadata": {
        "id": "YibuHvseJwF_"
      },
      "source": [
        "3. Write a Python program to concatenate following dictionaries to dic1."
      ]
    },
    {
      "cell_type": "code",
      "metadata": {
        "id": "WKAVqFb_JyPj",
        "colab": {
          "base_uri": "https://localhost:8080/"
        },
        "outputId": "6dd94dd2-e1bb-4a2d-e918-552c86fc03ed"
      },
      "source": [
        "dic1={1:10, 2:20}\n",
        "dic2={3:30, 4:40}\n",
        "dic1.update(dic2)\n",
        "print(dic1)\n"
      ],
      "execution_count": null,
      "outputs": [
        {
          "output_type": "stream",
          "name": "stdout",
          "text": [
            "{1: 10, 2: 20}\n",
            "{1: 10, 2: 20, 3: 30, 4: 40}\n"
          ]
        }
      ]
    },
    {
      "cell_type": "markdown",
      "metadata": {
        "id": "IGTVVL7MKhop"
      },
      "source": [
        "4. Write a Python program to create a union of sets."
      ]
    },
    {
      "cell_type": "code",
      "metadata": {
        "id": "JNYm1jU-KaJf",
        "colab": {
          "base_uri": "https://localhost:8080/"
        },
        "outputId": "04aa6f07-2e76-4185-b602-c81c1dd29f73"
      },
      "source": [
        "setx = set([\"green\", \"blue\"])\n",
        "sety = set([\"blue\", \"yellow\"])\n",
        "\n",
        "setxy = setx.union(sety)\n",
        "\n",
        "print(setxy)"
      ],
      "execution_count": null,
      "outputs": [
        {
          "output_type": "stream",
          "name": "stdout",
          "text": [
            "{'green', 'blue', 'yellow'}\n"
          ]
        }
      ]
    },
    {
      "cell_type": "code",
      "metadata": {
        "id": "66pQgEOahchQ"
      },
      "source": [],
      "execution_count": null,
      "outputs": []
    }
  ]
}